{
 "cells": [
  {
   "cell_type": "markdown",
   "metadata": {},
   "source": [
    "check the validity of similarity loss\n",
    "\n",
    "assume T = 2, D = 2, M = 2, H = 2, W = 2"
   ]
  },
  {
   "cell_type": "code",
   "execution_count": 52,
   "metadata": {},
   "outputs": [],
   "source": [
    "import torch\n",
    "import torch.nn as nn\n",
    "import torch.nn.functional as F\n",
    "import math"
   ]
  },
  {
   "cell_type": "code",
   "execution_count": 19,
   "metadata": {},
   "outputs": [],
   "source": [
    "e = torch.tensor([[0.3, 0.8], [0.7, 0.2]])\n",
    "v = torch.tensor([[0.5, 0.3], [0.5, 1.0], [0.6, 0.4], [0.2, 0.4], [0.7, 1.2], [0.6, 1.6], [1.1, 0.7], [0.5, 0.2]])\n",
    "gamma1 = 1\n",
    "gamma2 = 2\n",
    "gamma3 = 3"
   ]
  },
  {
   "cell_type": "code",
   "execution_count": 9,
   "metadata": {},
   "outputs": [
    {
     "data": {
      "text/plain": [
       "tensor([[0.3900, 0.9500, 0.5000, 0.3800, 1.1700, 1.4600, 0.8900, 0.3100],\n",
       "        [0.4100, 0.5500, 0.5000, 0.2200, 0.7300, 0.7400, 0.9100, 0.3900]])"
      ]
     },
     "execution_count": 9,
     "metadata": {},
     "output_type": "execute_result"
    }
   ],
   "source": [
    "# s = e * v^T = R^T x (M x H x W)\n",
    "s = e.mm(v.t())\n",
    "s"
   ]
  },
  {
   "cell_type": "code",
   "execution_count": 14,
   "metadata": {},
   "outputs": [
    {
     "data": {
      "text/plain": [
       "tensor([[0.4950, 0.5987, 0.5000, 0.5399, 0.6083, 0.6726, 0.4950, 0.4800],\n",
       "        [0.5050, 0.4013, 0.5000, 0.4601, 0.3917, 0.3274, 0.5050, 0.5200]])"
      ]
     },
     "execution_count": 14,
     "metadata": {},
     "output_type": "execute_result"
    }
   ],
   "source": [
    "s_norm = F.softmax(s, dim=0)\n",
    "s_norm"
   ]
  },
  {
   "cell_type": "code",
   "execution_count": 16,
   "metadata": {},
   "outputs": [
    {
     "data": {
      "text/plain": [
       "tensor([[0.1182, 0.1311, 0.1188, 0.1236, 0.1324, 0.1412, 0.1182, 0.1165],\n",
       "        [0.1316, 0.1187, 0.1310, 0.1258, 0.1175, 0.1102, 0.1316, 0.1336]])"
      ]
     },
     "execution_count": 16,
     "metadata": {},
     "output_type": "execute_result"
    }
   ],
   "source": [
    "alpha = F.softmax(gamma1 * s_norm, dim=1)\n",
    "alpha"
   ]
  },
  {
   "cell_type": "code",
   "execution_count": 18,
   "metadata": {},
   "outputs": [
    {
     "name": "stdout",
     "output_type": "stream",
     "text": [
      "tensor([[0.5863, 0.7544],\n",
      "        [0.5888, 0.6970]])\n",
      "tensor([[0.3000, 0.8000],\n",
      "        [0.7000, 0.2000]])\n"
     ]
    }
   ],
   "source": [
    "v_tidal = alpha.mm(v)\n",
    "print(v_tidal)\n",
    "print(e)"
   ]
  },
  {
   "cell_type": "code",
   "execution_count": 25,
   "metadata": {},
   "outputs": [],
   "source": [
    "def matching_score(t1, t2):\n",
    "    return torch.div((t1.view(1, -1)).mm(t2.view(-1, 1)), torch.norm(t1, 2) * torch.norm(t2, 2))"
   ]
  },
  {
   "cell_type": "code",
   "execution_count": 29,
   "metadata": {},
   "outputs": [
    {
     "data": {
      "text/plain": [
       "tensor([[1.2505]])"
      ]
     },
     "execution_count": 29,
     "metadata": {},
     "output_type": "execute_result"
    }
   ],
   "source": [
    "R_1 = torch.exp(gamma2 * matching_score(v_tidal[:, 0], e[:, 0])) + torch.exp(gamma2 * matching_score(v_tidal[:, 1], e[:, 1]))\n",
    "R_1 = torch.log(torch.pow(R_1, 1 / gamma2))\n",
    "R_1"
   ]
  },
  {
   "cell_type": "code",
   "execution_count": 38,
   "metadata": {},
   "outputs": [
    {
     "data": {
      "text/plain": [
       "tensor([[0.5167, 0.5320],\n",
       "        [0.4833, 0.4680]])"
      ]
     },
     "execution_count": 38,
     "metadata": {},
     "output_type": "execute_result"
    }
   ],
   "source": [
    "s_norm_copy = s_norm.clone()\n",
    "s_norm_copy = torch.exp(s_norm_copy)\n",
    "sum_1 = torch.sum(s_norm_copy[:, : 4])\n",
    "sum_2 = torch.sum(s_norm_copy[:, 4 :])\n",
    "s_norm_copy[:, : 4] /= sum_1\n",
    "s_norm_copy[:, 4 :] /= sum_2\n",
    "beta = torch.tensor([[torch.sum(s_norm_copy[0, : 4]), torch.sum(s_norm_copy[0, 4 :])],\n",
    "                     [torch.sum(s_norm_copy[1, : 4]), torch.sum(s_norm_copy[1, 4 :])]])\n",
    "beta"
   ]
  },
  {
   "cell_type": "code",
   "execution_count": 41,
   "metadata": {},
   "outputs": [
    {
     "data": {
      "text/plain": [
       "tensor([[0.4933, 0.4872],\n",
       "        [0.5100, 0.5192]])"
      ]
     },
     "execution_count": 41,
     "metadata": {},
     "output_type": "execute_result"
    }
   ],
   "source": [
    "e_prime = e.t().mm(beta)\n",
    "e_prime"
   ]
  },
  {
   "cell_type": "code",
   "execution_count": 76,
   "metadata": {},
   "outputs": [],
   "source": [
    "def match_score_2(v_tidal, e_prime):\n",
    "    inner_product = v_tidal.mm(e_prime.view(-1, 1))\n",
    "    for i in range(v_tidal.size()[0]):\n",
    "        inner_product[i] /= ((torch.norm(v_tidal[i], 2) * torch.norm(e_prime, 2)))\n",
    "    result = torch.sum(inner_product) / v_tidal.size()[0]\n",
    "    return result\n",
    "        "
   ]
  },
  {
   "cell_type": "code",
   "execution_count": 80,
   "metadata": {},
   "outputs": [
    {
     "data": {
      "text/plain": [
       "tensor(1.2996)"
      ]
     },
     "execution_count": 80,
     "metadata": {},
     "output_type": "execute_result"
    }
   ],
   "source": [
    "R_2 = torch.exp(gamma2 * match_score_2(v[: 4, :], e_prime[:, 0])) +\\\n",
    "      torch.exp(gamma2 * match_score_2(v[4 :, :], e_prime[:, 1]))\n",
    "R_2 = torch.log(torch.pow(R_2, 1 / gamma2))\n",
    "R_2"
   ]
  },
  {
   "cell_type": "code",
   "execution_count": 81,
   "metadata": {},
   "outputs": [
    {
     "data": {
      "text/plain": [
       "tensor([[2.5501]])"
      ]
     },
     "execution_count": 81,
     "metadata": {},
     "output_type": "execute_result"
    }
   ],
   "source": [
    "R_1 + R_2 "
   ]
  },
  {
   "cell_type": "code",
   "execution_count": 90,
   "metadata": {},
   "outputs": [],
   "source": [
    "reg = torch.norm(beta.mm(beta.t()) - torch.diag(beta.mm(beta.t())) * torch.eye(2))"
   ]
  },
  {
   "cell_type": "code",
   "execution_count": 92,
   "metadata": {},
   "outputs": [
    {
     "data": {
      "text/plain": [
       "tensor(-1.2947)"
      ]
     },
     "execution_count": 92,
     "metadata": {},
     "output_type": "execute_result"
    }
   ],
   "source": [
    "reg - 2"
   ]
  },
  {
   "cell_type": "code",
   "execution_count": 99,
   "metadata": {},
   "outputs": [],
   "source": [
    "def score(e, v, gamma1=1, gamma2=2):\n",
    "    s = e.mm(v.t())\n",
    "    s_norm = F.softmax(s, dim=0)\n",
    "    alpha = F.softmax(gamma1 * s_norm, dim=1)\n",
    "    v_tidal = alpha.mm(v)\n",
    "    def matching_score(t1, t2):\n",
    "        return torch.div((t1.view(1, -1)).mm(t2.view(-1, 1)), torch.norm(t1, 2) * torch.norm(t2, 2))\n",
    "    R_1 = torch.exp(gamma2 * matching_score(v_tidal[:, 0], e[:, 0])) + torch.exp(gamma2 * matching_score(v_tidal[:, 1], e[:, 1]))\n",
    "    R_1 = torch.log(torch.pow(R_1, 1 / gamma2))\n",
    "    s_norm_copy = s_norm.clone()\n",
    "    s_norm_copy = torch.exp(s_norm_copy)\n",
    "    sum_1 = torch.sum(s_norm_copy[:, : 4])\n",
    "    sum_2 = torch.sum(s_norm_copy[:, 4 :])\n",
    "    s_norm_copy[:, : 4] /= sum_1\n",
    "    s_norm_copy[:, 4 :] /= sum_2\n",
    "    beta = torch.tensor([[torch.sum(s_norm_copy[0, : 4]), torch.sum(s_norm_copy[0, 4 :])],\n",
    "                         [torch.sum(s_norm_copy[1, : 4]), torch.sum(s_norm_copy[1, 4 :])]])\n",
    "    e_prime = e.t().mm(beta)\n",
    "    def match_score_2(v_tidal, e_prime):\n",
    "        inner_product = v_tidal.mm(e_prime.view(-1, 1))\n",
    "        for i in range(v_tidal.size()[0]):\n",
    "            inner_product[i] /= ((torch.norm(v_tidal[i], 2) * torch.norm(e_prime, 2)))\n",
    "        result = torch.sum(inner_product) / v_tidal.size()[0]\n",
    "        return result\n",
    "    R_2 = torch.exp(gamma2 * match_score_2(v[: 4, :], e_prime[:, 0])) +\\\n",
    "          torch.exp(gamma2 * match_score_2(v[4 :, :], e_prime[:, 1]))\n",
    "    R_2 = torch.log(torch.pow(R_2, 1 / gamma2))\n",
    "    return R_1 + R_2, beta \n",
    "    \n"
   ]
  },
  {
   "cell_type": "code",
   "execution_count": 102,
   "metadata": {},
   "outputs": [],
   "source": [
    "def regularization(beta):\n",
    "    return torch.norm(beta.mm(beta.t()) - torch.diag(beta.mm(beta.t())) * torch.eye(2))"
   ]
  },
  {
   "cell_type": "code",
   "execution_count": 100,
   "metadata": {},
   "outputs": [],
   "source": [
    "v1 = v\n",
    "v2 = v + 0.2\n",
    "e1 = e\n",
    "e2 = e - 0.1"
   ]
  },
  {
   "cell_type": "code",
   "execution_count": 101,
   "metadata": {},
   "outputs": [],
   "source": [
    "R_11, beta1 = score(e1, v1)\n",
    "R_12, _ = score(e1, v2)\n",
    "R_22, beta2 = score(e2, v2)\n",
    "R_21, _ = score(e2, v1)"
   ]
  },
  {
   "cell_type": "code",
   "execution_count": 103,
   "metadata": {},
   "outputs": [],
   "source": [
    "P_DQ = torch.exp(R_11) / torch.add(torch.exp(R_11), torch.exp(R_21)) +\\\n",
    "       torch.exp(R_22) / torch.add(torch.exp(R_22), torch.exp(R_12))\n",
    "P_QD = torch.exp(R_11) / torch.add(torch.exp(R_11), torch.exp(R_12)) +\\\n",
    "       torch.exp(R_22) / torch.add(torch.exp(R_22), torch.exp(R_21))\n",
    "reg = regularization(beta1) + regularization(beta2)\n",
    "loss = -P_DQ - P_QD + reg"
   ]
  },
  {
   "cell_type": "code",
   "execution_count": 104,
   "metadata": {},
   "outputs": [
    {
     "data": {
      "text/plain": [
       "tensor([[-0.5900]])"
      ]
     },
     "execution_count": 104,
     "metadata": {},
     "output_type": "execute_result"
    }
   ],
   "source": [
    "loss"
   ]
  },
  {
   "cell_type": "code",
   "execution_count": null,
   "metadata": {},
   "outputs": [],
   "source": []
  }
 ],
 "metadata": {
  "kernelspec": {
   "display_name": "Python 3",
   "language": "python",
   "name": "python3"
  },
  "language_info": {
   "codemirror_mode": {
    "name": "ipython",
    "version": 3
   },
   "file_extension": ".py",
   "mimetype": "text/x-python",
   "name": "python",
   "nbconvert_exporter": "python",
   "pygments_lexer": "ipython3",
   "version": "3.6.5"
  }
 },
 "nbformat": 4,
 "nbformat_minor": 2
}
